{
 "cells": [
  {
   "cell_type": "code",
   "execution_count": 3,
   "id": "7a2b730f-75d3-43de-8ef6-8cfb7a353b22",
   "metadata": {},
   "outputs": [
    {
     "name": "stdout",
     "output_type": "stream",
     "text": [
      "4\n",
      "2\n"
     ]
    }
   ],
   "source": [
    "def duplicate(arr):\n",
    "    pointer1 = arr[0]\n",
    "    pointer2 = arr[0]\n",
    "\n",
    "    # Phase 1: Find the intersection point in the cycle\n",
    "    while True:\n",
    "        pointer1 = arr[pointer1]\n",
    "        pointer2 = arr[arr[pointer2]]\n",
    "        if pointer1 == pointer2:\n",
    "            break\n",
    "\n",
    "    # Phase 2: Find the entrance to the cycle\n",
    "    pointer1 = arr[0]\n",
    "    while pointer1 != pointer2:\n",
    "        pointer1 = arr[pointer1]\n",
    "        pointer2 = arr[pointer2]\n",
    "\n",
    "    return pointer1\n",
    "\n",
    "# Test Cases\n",
    "print(duplicate([4, 2, 3, 4, 1]))  \n",
    "print(duplicate([2, 1, 3, 4, 2]))  \n",
    "\n"
   ]
  },
  {
   "cell_type": "code",
   "execution_count": null,
   "id": "50d0b866-7d35-46ca-835a-efa4914195f7",
   "metadata": {},
   "outputs": [],
   "source": []
  }
 ],
 "metadata": {
  "kernelspec": {
   "display_name": "Python 3 (ipykernel)",
   "language": "python",
   "name": "python3"
  },
  "language_info": {
   "codemirror_mode": {
    "name": "ipython",
    "version": 3
   },
   "file_extension": ".py",
   "mimetype": "text/x-python",
   "name": "python",
   "nbconvert_exporter": "python",
   "pygments_lexer": "ipython3",
   "version": "3.12.5"
  }
 },
 "nbformat": 4,
 "nbformat_minor": 5
}
