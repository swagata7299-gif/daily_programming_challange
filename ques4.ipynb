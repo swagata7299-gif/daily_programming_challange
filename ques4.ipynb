{
 "cells": [
  {
   "cell_type": "code",
   "execution_count": 4,
   "id": "bfa7a127-24ff-445b-a3f4-25a17448a146",
   "metadata": {},
   "outputs": [
    {
     "name": "stdout",
     "output_type": "stream",
     "text": [
      "arr1: [1, 2, 3, 4]\n",
      "arr2: [5, 6, 7, 8]\n"
     ]
    }
   ],
   "source": [
    "def merge(arr1, arr2):\n",
    "    m = len(arr1)\n",
    "    n = len(arr2)\n",
    "    gap = (m + n + 1) // 2  # Initialize the gap\n",
    "\n",
    "    while gap > 0:\n",
    "        i = 0\n",
    "        j = gap\n",
    "\n",
    "        # Compare elements with a gap in both arrays\n",
    "        while j < (m + n):\n",
    "            if j < m and arr1[i] > arr1[j]:\n",
    "                arr1[i], arr1[j] = arr1[j], arr1[i]\n",
    "            elif j >= m and i < m and arr1[i] > arr2[j - m]:\n",
    "                arr1[i], arr2[j - m] = arr2[j - m], arr1[i]\n",
    "            elif j >= m and i >= m and arr2[i - m] > arr2[j - m]:\n",
    "                arr2[i - m], arr2[j - m] = arr2[j - m], arr2[i - m]\n",
    "\n",
    "            i += 1\n",
    "            j += 1\n",
    "\n",
    "        # Reduce the gap\n",
    "        if gap == 1:\n",
    "            gap = 0\n",
    "        else:\n",
    "            gap = (gap + 1) // 2\n",
    "\n",
    "# Example\n",
    "arr1 = [1, 3, 5, 7]\n",
    "arr2 = [2, 4, 6, 8]\n",
    "\n",
    "merge(arr1, arr2)\n",
    "\n",
    "print(\"arr1:\", arr1)\n",
    "print(\"arr2:\", arr2)\n"
   ]
  },
  {
   "cell_type": "code",
   "execution_count": null,
   "id": "3489a235-9398-4afc-8e49-ab5212326ad4",
   "metadata": {},
   "outputs": [],
   "source": []
  }
 ],
 "metadata": {
  "kernelspec": {
   "display_name": "Python 3 (ipykernel)",
   "language": "python",
   "name": "python3"
  },
  "language_info": {
   "codemirror_mode": {
    "name": "ipython",
    "version": 3
   },
   "file_extension": ".py",
   "mimetype": "text/x-python",
   "name": "python",
   "nbconvert_exporter": "python",
   "pygments_lexer": "ipython3",
   "version": "3.12.5"
  }
 },
 "nbformat": 4,
 "nbformat_minor": 5
}
