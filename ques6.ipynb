{
 "cells": [
  {
   "cell_type": "code",
   "execution_count": 1,
   "id": "65c1eb15-ad14-438e-b848-c7cc372b4f8d",
   "metadata": {},
   "outputs": [
    {
     "name": "stdout",
     "output_type": "stream",
     "text": [
      "[(0, 2), (2, 3)]\n",
      "[(0, 2), (2, 4)]\n",
      "[]\n",
      "[(0, 0), (0, 1), (1, 1), (0, 2), (1, 2), (2, 2)]\n"
     ]
    }
   ],
   "source": [
    "def finding_subarr(arr):\n",
    "  prefix_sum = {}\n",
    "  prefix_summ = 0\n",
    "  result = []\n",
    "\n",
    "\n",
    "  for i in range(len(arr)):\n",
    "    prefix_summ = prefix_summ + arr[i]\n",
    "\n",
    "    if prefix_summ == 0:\n",
    "        result.append((0, i))\n",
    "\n",
    "\n",
    "    if prefix_summ in prefix_sum:\n",
    "      for start_index in prefix_sum[prefix_summ]:\n",
    "        result.append((start_index + 1, i))\n",
    "\n",
    "    if prefix_summ in prefix_sum:\n",
    "      prefix_sum[prefix_summ].append(i)\n",
    "\n",
    "    else:\n",
    "      prefix_sum[prefix_summ] = [i]\n",
    "\n",
    "\n",
    "  return result\n",
    "\n",
    "\n",
    "print(finding_subarr([1,2,-3,3,-1,2]))\n",
    "print(finding_subarr([4,-1,-3,1,2,-1]))\n",
    "print(finding_subarr([1,2,3,4]))\n",
    "print(finding_subarr([0,0,0]))\n"
   ]
  },
  {
   "cell_type": "code",
   "execution_count": null,
   "id": "9653de4c-30cf-42c9-9233-a6d635bb7490",
   "metadata": {},
   "outputs": [],
   "source": []
  }
 ],
 "metadata": {
  "kernelspec": {
   "display_name": "Python 3 (ipykernel)",
   "language": "python",
   "name": "python3"
  },
  "language_info": {
   "codemirror_mode": {
    "name": "ipython",
    "version": 3
   },
   "file_extension": ".py",
   "mimetype": "text/x-python",
   "name": "python",
   "nbconvert_exporter": "python",
   "pygments_lexer": "ipython3",
   "version": "3.12.5"
  }
 },
 "nbformat": 4,
 "nbformat_minor": 5
}
