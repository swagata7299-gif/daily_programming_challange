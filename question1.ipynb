{
 "cells": [
  {
   "cell_type": "code",
   "execution_count": 2,
   "id": "3bd9f55e-8827-4e86-9787-053a7889b677",
   "metadata": {},
   "outputs": [
    {
     "name": "stdout",
     "output_type": "stream",
     "text": [
      "[0, 0, 0, 0, 1, 1, 1, 2, 2]\n"
     ]
    }
   ],
   "source": [
    "def sort_array(arr):\n",
    "  low, middle, high = 0,0,len(arr)-1\n",
    "\n",
    "  while middle <= high:\n",
    "    if arr[middle] == 0:\n",
    "      arr[low], arr[middle] = arr[middle], arr[low]\n",
    "      low = low + 1\n",
    "      middle = middle + 1\n",
    "    elif arr[middle] == 1:\n",
    "      middle = middle + 1\n",
    "    else:\n",
    "      arr[middle], arr[high] = arr[high], arr[middle]\n",
    "      high = high - 1\n",
    "\n",
    "\n",
    "arr = [0,2,1,0,1,1,2,0,0]\n",
    "sort_array(arr)\n",
    "print(arr)"
   ]
  },
  {
   "cell_type": "code",
   "execution_count": null,
   "id": "f79f217e-d963-47b5-8c72-630f4c5bf4ad",
   "metadata": {},
   "outputs": [],
   "source": []
  }
 ],
 "metadata": {
  "kernelspec": {
   "display_name": "Python 3 (ipykernel)",
   "language": "python",
   "name": "python3"
  },
  "language_info": {
   "codemirror_mode": {
    "name": "ipython",
    "version": 3
   },
   "file_extension": ".py",
   "mimetype": "text/x-python",
   "name": "python",
   "nbconvert_exporter": "python",
   "pygments_lexer": "ipython3",
   "version": "3.12.5"
  }
 },
 "nbformat": 4,
 "nbformat_minor": 5
}
