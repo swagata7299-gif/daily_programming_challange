{
 "cells": [
  {
   "cell_type": "code",
   "execution_count": 1,
   "id": "e0093d02-1f64-4b7d-a793-41a238b94262",
   "metadata": {},
   "outputs": [
    {
     "name": "stdout",
     "output_type": "stream",
     "text": [
      "[17, 5, 2]\n",
      "[4, 0]\n",
      "[10, 6, 5, 2]\n",
      "[5]\n",
      "[100, 50, 20, 10]\n"
     ]
    }
   ],
   "source": [
    "def get_leader(arr):\n",
    "  arr_len = len(arr)\n",
    "  leader_elements = []\n",
    "  curr_max = float('-inf')   #initializing to the smallest possible value\n",
    "\n",
    "  for index in range(arr_len - 1, -1, -1):\n",
    "      if arr[index] > curr_max:\n",
    "         leader_elements.append(arr[index])\n",
    "         curr_max = arr[index]\n",
    "\n",
    "  leader_elements.reverse()\n",
    "  return leader_elements\n",
    "\n",
    "# Test Cases\n",
    "print(get_leader([16, 17, 4, 3, 5, 2]))\n",
    "print(get_leader([1, 2, 3, 4, 0]))\n",
    "print(get_leader([7, 10, 4, 10, 6, 5, 2]))\n",
    "print(get_leader([5]))\n",
    "print(get_leader([100,50,20,10]))\n",
    "     "
   ]
  },
  {
   "cell_type": "code",
   "execution_count": null,
   "id": "6d5d74b6-cbdf-4f6e-98c9-299622d7b0d2",
   "metadata": {},
   "outputs": [],
   "source": []
  }
 ],
 "metadata": {
  "kernelspec": {
   "display_name": "Python 3 (ipykernel)",
   "language": "python",
   "name": "python3"
  },
  "language_info": {
   "codemirror_mode": {
    "name": "ipython",
    "version": 3
   },
   "file_extension": ".py",
   "mimetype": "text/x-python",
   "name": "python",
   "nbconvert_exporter": "python",
   "pygments_lexer": "ipython3",
   "version": "3.12.5"
  }
 },
 "nbformat": 4,
 "nbformat_minor": 5
}
